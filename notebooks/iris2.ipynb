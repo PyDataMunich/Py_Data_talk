{
 "cells": [
  {
   "cell_type": "code",
   "execution_count": 2,
   "metadata": {
    "collapsed": true
   },
   "outputs": [],
   "source": [
    "import pandas as pd\n",
    "import numpy as np\n",
    "import matplotlib.pyplot as plt\n",
    "%matplotlib inline\n",
    "import seaborn as sns\n",
    "sns.set()\n",
    "#sns.set_palette(\"Set1\")\n",
    "import warnings\n",
    "warnings.filterwarnings(\"ignore\")"
   ]
  },
  {
   "cell_type": "markdown",
   "metadata": {},
   "source": [
    "# (Section 1) Before neural networks: Logistic regression"
   ]
  },
  {
   "cell_type": "code",
   "execution_count": 3,
   "metadata": {
    "collapsed": true
   },
   "outputs": [],
   "source": [
    "iris = sns.load_dataset(\"iris\")"
   ]
  },
  {
   "cell_type": "code",
   "execution_count": 4,
   "metadata": {},
   "outputs": [
    {
     "data": {
      "text/html": [
       "<div>\n",
       "<style scoped>\n",
       "    .dataframe tbody tr th:only-of-type {\n",
       "        vertical-align: middle;\n",
       "    }\n",
       "\n",
       "    .dataframe tbody tr th {\n",
       "        vertical-align: top;\n",
       "    }\n",
       "\n",
       "    .dataframe thead th {\n",
       "        text-align: right;\n",
       "    }\n",
       "</style>\n",
       "<table border=\"1\" class=\"dataframe\">\n",
       "  <thead>\n",
       "    <tr style=\"text-align: right;\">\n",
       "      <th></th>\n",
       "      <th>sepal_length</th>\n",
       "      <th>sepal_width</th>\n",
       "      <th>petal_length</th>\n",
       "      <th>petal_width</th>\n",
       "      <th>species</th>\n",
       "    </tr>\n",
       "  </thead>\n",
       "  <tbody>\n",
       "    <tr>\n",
       "      <th>0</th>\n",
       "      <td>5.1</td>\n",
       "      <td>3.5</td>\n",
       "      <td>1.4</td>\n",
       "      <td>0.2</td>\n",
       "      <td>setosa</td>\n",
       "    </tr>\n",
       "    <tr>\n",
       "      <th>1</th>\n",
       "      <td>4.9</td>\n",
       "      <td>3.0</td>\n",
       "      <td>1.4</td>\n",
       "      <td>0.2</td>\n",
       "      <td>setosa</td>\n",
       "    </tr>\n",
       "    <tr>\n",
       "      <th>2</th>\n",
       "      <td>4.7</td>\n",
       "      <td>3.2</td>\n",
       "      <td>1.3</td>\n",
       "      <td>0.2</td>\n",
       "      <td>setosa</td>\n",
       "    </tr>\n",
       "    <tr>\n",
       "      <th>3</th>\n",
       "      <td>4.6</td>\n",
       "      <td>3.1</td>\n",
       "      <td>1.5</td>\n",
       "      <td>0.2</td>\n",
       "      <td>setosa</td>\n",
       "    </tr>\n",
       "    <tr>\n",
       "      <th>4</th>\n",
       "      <td>5.0</td>\n",
       "      <td>3.6</td>\n",
       "      <td>1.4</td>\n",
       "      <td>0.2</td>\n",
       "      <td>setosa</td>\n",
       "    </tr>\n",
       "  </tbody>\n",
       "</table>\n",
       "</div>"
      ],
      "text/plain": [
       "   sepal_length  sepal_width  petal_length  petal_width species\n",
       "0           5.1          3.5           1.4          0.2  setosa\n",
       "1           4.9          3.0           1.4          0.2  setosa\n",
       "2           4.7          3.2           1.3          0.2  setosa\n",
       "3           4.6          3.1           1.5          0.2  setosa\n",
       "4           5.0          3.6           1.4          0.2  setosa"
      ]
     },
     "execution_count": 4,
     "metadata": {},
     "output_type": "execute_result"
    }
   ],
   "source": [
    "iris.head()"
   ]
  },
  {
   "cell_type": "code",
   "execution_count": null,
   "metadata": {},
   "outputs": [],
   "source": [
    "list_of_species = list(set(iris.species))\n",
    "print(list_of_species)"
   ]
  },
  {
   "cell_type": "code",
   "execution_count": null,
   "metadata": {},
   "outputs": [],
   "source": [
    "iris.shape"
   ]
  },
  {
   "cell_type": "code",
   "execution_count": null,
   "metadata": {},
   "outputs": [],
   "source": [
    "iris.species.value_counts()"
   ]
  },
  {
   "cell_type": "code",
   "execution_count": null,
   "metadata": {},
   "outputs": [],
   "source": [
    "sns.pairplot(iris, hue=\"species\");"
   ]
  },
  {
   "cell_type": "code",
   "execution_count": null,
   "metadata": {
    "collapsed": true
   },
   "outputs": [],
   "source": [
    "def plot_histogram(my_species,feature,n_bins=20,normed=None,data=iris):\n",
    "    \"\"\"Plot a histogram of the given feature according to a given species.\"\"\"\n",
    "    iris_dummies  = pd.get_dummies(data, columns =['species'])\n",
    "    grouped_my_species = iris_dummies.groupby('species_'+my_species)\n",
    "    hist_my_species= [group[feature] for _,group in grouped_my_species]\n",
    "    labels = [value for value,_ in grouped_my_species]\n",
    "    sns.set_style(\"whitegrid\")\n",
    "    plt.figure(figsize=(10,6))\n",
    "    plt.hist(hist_my_species, histtype='bar',bins=n_bins,normed=normed,label=labels);\n",
    "    #plt.yticks([])\n",
    "    plt.legend()\n",
    "    plt.xlabel(feature)\n",
    "    sns.despine()\n",
    "    plt.title(my_species)"
   ]
  },
  {
   "cell_type": "code",
   "execution_count": null,
   "metadata": {
    "collapsed": true
   },
   "outputs": [],
   "source": [
    "def plot_histogram(my_species,feature,n_bins=20,normed=None,data=iris):\n",
    "    \"\"\"Plot a histogram of the given feature according to a given species.\"\"\"\n",
    "    mask = data['species']==my_species\n",
    "    hist0 = data[feature][~mask]\n",
    "    hist1 = data[feature][mask]\n",
    "    histograms = [hist0,hist1]\n",
    "    labels = ['not '+my_species, my_species]\n",
    "    #fig,ax = plt.subplots()\n",
    "    #fig,ax = plt.subplots(figsize=(10,6))\n",
    "    ax = plt.gca()\n",
    "    plt.hist(histograms, histtype='bar',bins=n_bins,normed=normed,label=labels);\n",
    "    plt.title(my_species,fontsize='xx-large')\n",
    "    plt.xlabel(feature,fontsize='x-large')\n",
    "    ax.tick_params(labelsize='large')\n",
    "    plt.legend(fontsize='x-large')\n",
    "    sns.set_style(\"whitegrid\")\n",
    "    #plt.yticks([])\n",
    "    #sns.despine()\n",
    "    return None           "
   ]
  },
  {
   "cell_type": "code",
   "execution_count": null,
   "metadata": {},
   "outputs": [],
   "source": [
    "plot_histogram('setosa','petal_length')"
   ]
  },
  {
   "cell_type": "code",
   "execution_count": null,
   "metadata": {},
   "outputs": [],
   "source": [
    "plot_histogram('setosa','petal_width')"
   ]
  },
  {
   "cell_type": "code",
   "execution_count": null,
   "metadata": {},
   "outputs": [],
   "source": [
    "plot_histogram('virginica','petal_width')"
   ]
  },
  {
   "cell_type": "code",
   "execution_count": null,
   "metadata": {},
   "outputs": [],
   "source": [
    "# fig,axs = plt.subplots(1,3,figsize=(19,7))\n",
    "# for i,species in enumerate(list_of_species):\n",
    "#     plt.sca(axs[i])\n",
    "#     plot_histogram(species,'petal_width')    "
   ]
  },
  {
   "cell_type": "markdown",
   "metadata": {},
   "source": [
    "# Problem we want to address: knowing the petal width, predict if the iris is a virginica"
   ]
  },
  {
   "cell_type": "markdown",
   "metadata": {},
   "source": [
    "# Logistic regression with sklearn: guessing virginica knowing the petal width"
   ]
  },
  {
   "cell_type": "code",
   "execution_count": null,
   "metadata": {
    "collapsed": true
   },
   "outputs": [],
   "source": [
    "# iris_dummies = pd.get_dummies(iris, columns =['species'])\n",
    "# #iris_dummies.sample(5)\n",
    "# iris_dummies.head()"
   ]
  },
  {
   "cell_type": "code",
   "execution_count": 124,
   "metadata": {
    "collapsed": true
   },
   "outputs": [],
   "source": [
    "x = iris['petal_width'].reshape(-1,1)"
   ]
  },
  {
   "cell_type": "code",
   "execution_count": 125,
   "metadata": {},
   "outputs": [],
   "source": [
    "y = iris.species.apply(lambda x: 1 if x=='virginica' else 0)"
   ]
  },
  {
   "cell_type": "code",
   "execution_count": 118,
   "metadata": {
    "collapsed": true
   },
   "outputs": [],
   "source": [
    "# import sklearn.model_selection\n",
    "# import sklearn.linear_model\n",
    "\n",
    "# x_train, x_test, y_train, y_test = sklearn.model_selection.train_test_split(x,y,test_size = 0.2)"
   ]
  },
  {
   "cell_type": "code",
   "execution_count": 119,
   "metadata": {},
   "outputs": [],
   "source": [
    "import sklearn.linear_model\n",
    "logistic_classifier1 = sklearn.linear_model.LogisticRegression(C=1,max_iter=800)\n",
    "logistic_classifier2 = sklearn.linear_model.LogisticRegression(max_iter=800,solver='newton-cg',C=1,warm_start=True)"
   ]
  },
  {
   "cell_type": "code",
   "execution_count": 120,
   "metadata": {},
   "outputs": [
    {
     "data": {
      "text/plain": [
       "LogisticRegression(C=1, class_weight=None, dual=False, fit_intercept=True,\n",
       "          intercept_scaling=1, max_iter=800, multi_class='ovr', n_jobs=1,\n",
       "          penalty='l2', random_state=None, solver='newton-cg', tol=0.0001,\n",
       "          verbose=0, warm_start=True)"
      ]
     },
     "execution_count": 120,
     "metadata": {},
     "output_type": "execute_result"
    }
   ],
   "source": [
    "#logistic_classifier.fit(x_train,y_train);\n",
    "logistic_classifier1.fit(x,y)\n",
    "logistic_classifier2.fit(x,y)"
   ]
  },
  {
   "cell_type": "code",
   "execution_count": 210,
   "metadata": {},
   "outputs": [],
   "source": [
    "def plot_LR():\n",
    "    C_values = np.logspace(-10,10,3)\n",
    "    numC = len(C_values)\n",
    "    xs = np.zeros(numC)\n",
    "    ys = np.zeros(numC)\n",
    "    for i,C in enumerate(C_values):\n",
    "        clf = sklearn.linear_model.LogisticRegression(C=C)\n",
    "        clf.fit(x,y)\n",
    "        xs[i]=clf.coef_\n",
    "        ys[i]=clf.intercept_\n",
    "    plt.scatter(xs,ys,c=xs)\n",
    "    plt.gray()"
   ]
  },
  {
   "cell_type": "code",
   "execution_count": 211,
   "metadata": {},
   "outputs": [
    {
     "data": {
      "image/png": "[encoded data removed]",
      "text/plain": [
       "<matplotlib.figure.Figure at 0x1a2323e128>"
      ]
     },
     "metadata": {},
     "output_type": "display_data"
    }
   ],
   "source": [
    "plot_LR()"
   ]
  },
  {
   "cell_type": "code",
   "execution_count": 121,
   "metadata": {},
   "outputs": [
    {
     "name": "stdout",
     "output_type": "stream",
     "text": [
      "coefficients: [[ 2.61789264]] [-4.22209186]\n",
      "coefficients: [[ 4.33307927]] [-7.19470123]\n"
     ]
    }
   ],
   "source": [
    "print('coefficients:',logistic_classifier1.coef_ , logistic_classifier1.intercept_)\n",
    "print('coefficients:',logistic_classifier2.coef_ , logistic_classifier2.intercept_)\n",
    "\n",
    "#logistic_classifier.predict_proba([[1.]])"
   ]
  },
  {
   "cell_type": "code",
   "execution_count": null,
   "metadata": {},
   "outputs": [],
   "source": [
    "plot_histogram('virginica','petal_width',normed=True)\n",
    "petal_widths = np.arange(0,3,0.01)\n",
    "predicted_proba = logistic_classifier.predict_proba(petal_widths.reshape(-1,1))[:,1]\n",
    "plt.plot(domain_petal_width,predicted_proba,'r--',label='predicted proba')\n",
    "plt.plot([0,3],[.5,.5],'k--',linewidth=1)\n",
    "plt.legend()\n",
    "plt.yticks([0,0.5,1]);"
   ]
  },
  {
   "cell_type": "code",
   "execution_count": null,
   "metadata": {},
   "outputs": [],
   "source": [
    "score_train = logistic_classifier.score(x,y)\n",
    "print(score_train)\n",
    "# normally the score should be 0.958333 = 115/120\n",
    "# knowing that there are 5 misclassified, on a total of 120=x_train.shape[0]"
   ]
  },
  {
   "cell_type": "code",
   "execution_count": null,
   "metadata": {},
   "outputs": [],
   "source": [
    "prediction_train = logistic_classifier.predict_proba(x)\n",
    "loss_train = sklearn.metrics.log_loss(y,prediction_train)\n",
    "print(loss_train)"
   ]
  },
  {
   "cell_type": "code",
   "execution_count": null,
   "metadata": {},
   "outputs": [],
   "source": [
    "score_test = logistic_classifier.score(x,y)\n",
    "print(score_test)"
   ]
  },
  {
   "cell_type": "code",
   "execution_count": null,
   "metadata": {},
   "outputs": [],
   "source": [
    "prediction_test = logistic_classifier.predict_proba(x)\n",
    "test_loss = sklearn.metrics.log_loss(y,prediction_test)\n",
    "print(test_loss)"
   ]
  },
  {
   "cell_type": "markdown",
   "metadata": {},
   "source": [
    "# Keras"
   ]
  },
  {
   "cell_type": "code",
   "execution_count": 7,
   "metadata": {},
   "outputs": [
    {
     "name": "stderr",
     "output_type": "stream",
     "text": [
      "Using TensorFlow backend.\n"
     ]
    }
   ],
   "source": [
    "import keras\n",
    "from keras.models import Sequential\n",
    "from keras.layers import Dense, Activation\n",
    "from keras import regularizers"
   ]
  },
  {
   "cell_type": "code",
   "execution_count": 8,
   "metadata": {
    "collapsed": true
   },
   "outputs": [],
   "source": [
    "log_classifier = Sequential()"
   ]
  },
  {
   "cell_type": "code",
   "execution_count": 9,
   "metadata": {},
   "outputs": [],
   "source": [
    "layer0 = Dense(1,input_dim=1,kernel_regularizer=regularizers.l2(15.))\n",
    "log_classifier.add(layer0)"
   ]
  },
  {
   "cell_type": "code",
   "execution_count": 10,
   "metadata": {
    "collapsed": true
   },
   "outputs": [],
   "source": [
    "layer1 = Activation('sigmoid')\n",
    "log_classifier.add(layer1)"
   ]
  },
  {
   "cell_type": "code",
   "execution_count": 11,
   "metadata": {},
   "outputs": [],
   "source": [
    "log_classifier.compile(optimizer='sgd',loss='binary_crossentropy')\n",
    "#log_classifier.evaluate(x,y)"
   ]
  },
  {
   "cell_type": "code",
   "execution_count": 19,
   "metadata": {},
   "outputs": [
    {
     "data": {
      "text/plain": [
       "[<matplotlib.lines.Line2D at 0x1a208415f8>]"
      ]
     },
     "execution_count": 19,
     "metadata": {},
     "output_type": "execute_result"
    },
    {
     "data": {
      "image/png": "[encoded data removed]",
      "text/plain": [
       "<matplotlib.figure.Figure at 0x1a207372b0>"
      ]
     },
     "metadata": {},
     "output_type": "display_data"
    }
   ],
   "source": [
    "num_steps = 100\n",
    "epochs = 10\n",
    "steps = range(num_steps)\n",
    "loss = np.zeros(num_steps)\n",
    "for i in steps:\n",
    "    log_classifier.fit(x,y,epochs=epochs,verbose=0,batch_size=150)\n",
    "    loss[i] = log_classifier.evaluate(x,y,verbose=0)\n",
    "plt.plot(steps,loss)\n",
    "#plt.legend()"
   ]
  },
  {
   "cell_type": "code",
   "execution_count": 20,
   "metadata": {},
   "outputs": [],
   "source": [
    "w = log_classifier.get_weights()"
   ]
  },
  {
   "cell_type": "code",
   "execution_count": 21,
   "metadata": {},
   "outputs": [
    {
     "data": {
      "text/plain": [
       "[array([[ 0.00914597]], dtype=float32), array([-0.7041111], dtype=float32)]"
      ]
     },
     "execution_count": 21,
     "metadata": {},
     "output_type": "execute_result"
    }
   ],
   "source": [
    "w"
   ]
  },
  {
   "cell_type": "code",
   "execution_count": 22,
   "metadata": {},
   "outputs": [
    {
     "name": "stdout",
     "output_type": "stream",
     "text": [
      "150/150 [==============================] - 0s 70us/step\n"
     ]
    },
    {
     "data": {
      "text/plain": [
       "0.63525401751200361"
      ]
     },
     "execution_count": 22,
     "metadata": {},
     "output_type": "execute_result"
    }
   ],
   "source": [
    "log_classifier.evaluate(x,y)"
   ]
  },
  {
   "cell_type": "code",
   "execution_count": null,
   "metadata": {},
   "outputs": [],
   "source": [
    "log_classifier.fit(x,y)"
   ]
  },
  {
   "cell_type": "code",
   "execution_count": null,
   "metadata": {},
   "outputs": [],
   "source": [
    "len(w)"
   ]
  },
  {
   "cell_type": "code",
   "execution_count": null,
   "metadata": {},
   "outputs": [],
   "source": [
    "# log_classifier.predict(x)\n",
    "# returns an array of shape (-1,1)"
   ]
  },
  {
   "cell_type": "code",
   "execution_count": null,
   "metadata": {},
   "outputs": [],
   "source": [
    "plot_histogram('virginica','petal_width',normed=True)\n",
    "petal_widths = np.arange(-3,5,0.01)\n",
    "for i in range(4):\n",
    "    log_classifier.fit(x,y,epochs=20,verbose=0)\n",
    "    predicted_proba = log_classifier.predict(petal_widths.reshape(-1,1))[:,0]\n",
    "    plt.plot(petal_widths,predicted_proba,'--',label='proba after {} fit'.format(i))\n",
    "plt.plot([0,3],[.5,.5],'k--',linewidth=1)\n",
    "plt.legend()\n",
    "plt.yticks([0,0.5,1]);"
   ]
  },
  {
   "cell_type": "code",
   "execution_count": null,
   "metadata": {
    "collapsed": true
   },
   "outputs": [],
   "source": []
  },
  {
   "cell_type": "markdown",
   "metadata": {},
   "source": [
    "## The sigmoid function"
   ]
  },
  {
   "cell_type": "markdown",
   "metadata": {},
   "source": [
    "Here the logistic regression algorithm does the following: try to find a function \n",
    "$$ P_{normal} : [0,100] \\to [0,1]$$\n",
    "such that for a random value of a coordinate $x \\in [0,100]$,   \n",
    "\n",
    "$ P_{normal}(x)$ is an estimate (= a guess) of the probability that the traffic is slow.\n",
    "\n",
    "The idea of logistic regression is to look for a function of the form:\n",
    "$$ P_{normal}(x) = \\sigma(wx+b)$$\n",
    "where \n",
    "$$\\sigma : \\mathbb{R} \\to [0,1]$$ is the **sigmoid function ** defined by \n",
    "$$ \\sigma(x) = \\frac{1}{1+e^{-x}}$$"
   ]
  },
  {
   "cell_type": "code",
   "execution_count": null,
   "metadata": {
    "collapsed": true
   },
   "outputs": [],
   "source": [
    "def sigmoid(x):\n",
    "    return 1/(1+np.exp(-x))"
   ]
  },
  {
   "cell_type": "code",
   "execution_count": null,
   "metadata": {},
   "outputs": [],
   "source": [
    "plt.figure(figsize=(15,6))\n",
    "\n",
    "plt.subplot(121)\n",
    "x_sigmoid = np.arange(-20,20,0.01)\n",
    "y_sigmoid = sigmoid(x_sigmoid)\n",
    "_ = plt.plot(x_sigmoid,y_sigmoid)\n",
    "plt.title('Sigmoid')\n",
    "plt.subplot(122)\n",
    "w = -1\n",
    "b = 7\n",
    "y_shifted = sigmoid(w*x_sigmoid + b)\n",
    "_ = plt.plot(x_sigmoid,y_shifted)\n",
    "plt.title('Shifted sigmoid')\n",
    "plt.tight_layout()"
   ]
  },
  {
   "cell_type": "code",
   "execution_count": null,
   "metadata": {
    "collapsed": true
   },
   "outputs": [],
   "source": []
  },
  {
   "cell_type": "code",
   "execution_count": null,
   "metadata": {
    "collapsed": true
   },
   "outputs": [],
   "source": []
  },
  {
   "cell_type": "code",
   "execution_count": null,
   "metadata": {
    "collapsed": true
   },
   "outputs": [],
   "source": []
  },
  {
   "cell_type": "code",
   "execution_count": null,
   "metadata": {
    "collapsed": true
   },
   "outputs": [],
   "source": []
  },
  {
   "cell_type": "code",
   "execution_count": null,
   "metadata": {
    "collapsed": true
   },
   "outputs": [],
   "source": []
  },
  {
   "cell_type": "code",
   "execution_count": null,
   "metadata": {
    "collapsed": true
   },
   "outputs": [],
   "source": []
  },
  {
   "cell_type": "code",
   "execution_count": null,
   "metadata": {
    "collapsed": true
   },
   "outputs": [],
   "source": []
  },
  {
   "cell_type": "code",
   "execution_count": null,
   "metadata": {
    "collapsed": true
   },
   "outputs": [],
   "source": []
  },
  {
   "cell_type": "markdown",
   "metadata": {},
   "source": [
    "# Meshgrid heatplot"
   ]
  },
  {
   "cell_type": "code",
   "execution_count": null,
   "metadata": {
    "collapsed": true
   },
   "outputs": [],
   "source": [
    "# dx, dy = 0.05, 0.05\n",
    "# y, x = np.mgrid[slice(1, 5 + dy, dy),\n",
    "#                 slice(1, 5 + dx, dx)]"
   ]
  },
  {
   "cell_type": "code",
   "execution_count": null,
   "metadata": {
    "collapsed": true
   },
   "outputs": [],
   "source": [
    "def get_loss(weigth,bias,x,y,C=1.):\n",
    "    \"\"\"Compute the loss function.\"\"\"\n",
    "    model = sklearn.linear_model.LogisticRegression()\n",
    "    model.coef_ = np.array([[weigth]])\n",
    "    model.intercept_ = np.array([[bias]])\n",
    "    pred = model.predict_proba(x)[:,1]\n",
    "    #print(pred)\n",
    "    log_loss = x.shape[0]*sklearn.metrics.log_loss(y,pred)\n",
    "    #print(log_loss)\n",
    "    loss = 0.5*(weigth**2 + bias**2) + C*log_loss\n",
    "    return loss\n",
    "\n",
    "def get_loss1(weigth,bias):\n",
    "    return get_loss(weigth,bias,x_train,y_train,1.)\n",
    "vloss = np.vectorize(get_loss1)\n",
    "\n",
    "def get_meshgrid(xstart,xend,xstep,ystart,yend,ystep):\n",
    "    xx,yy = np.mgrid[xstart:xend:xstep,ystart:yend:ystep]\n",
    "    return xx,yy"
   ]
  },
  {
   "cell_type": "code",
   "execution_count": null,
   "metadata": {
    "collapsed": true
   },
   "outputs": [],
   "source": [
    "xx,yy = get_meshgrid(0,5,.1,-10,0,.1)"
   ]
  },
  {
   "cell_type": "code",
   "execution_count": null,
   "metadata": {
    "collapsed": true
   },
   "outputs": [],
   "source": [
    "loss = vloss(xx,yy)"
   ]
  },
  {
   "cell_type": "code",
   "execution_count": null,
   "metadata": {
    "collapsed": true
   },
   "outputs": [],
   "source": []
  },
  {
   "cell_type": "code",
   "execution_count": null,
   "metadata": {},
   "outputs": [],
   "source": [
    "import matplotlib.colors as colors\n",
    "fig = plt.figure(figsize=(17,7))\n",
    "#plt.pcolor(xx,yy,loss,cmap='RdBu_r')\n",
    "plt.pcolor(xx,yy,loss,norm=colors.LogNorm(),cmap='RdBu_r')\n",
    "plt.colorbar()\n",
    "CS = plt.contour(xx, yy, loss,20)\n",
    "plt.title('Loss function')\n",
    "plt.xlabel('weight')\n",
    "plt.ylabel('bias')\n",
    "\n",
    "#plt.plot([-0,40],[-0*(-1.7),40*(-1.7)],'w--')"
   ]
  },
  {
   "cell_type": "code",
   "execution_count": null,
   "metadata": {
    "collapsed": true
   },
   "outputs": [],
   "source": [
    "# plt.figure(figsize=(15,7))\n",
    "# #plt.pcolor(xx,yy,l,norm=colors.LogNorm(),cmap='RdBu_r')\n",
    "# # plt.pcolor(xx,yy,loss,cmap='RdBu_r')\n",
    "# # plt.colorbar()\n",
    "# #plt.plot([-0,40],[-0*(-1.7),40*(-1.7)],'w--')\n",
    "# CS = plt.contour(xx, yy, loss,50)\n",
    "# plt.clabel(CS, inline=1, fontsize=10)"
   ]
  },
  {
   "cell_type": "code",
   "execution_count": null,
   "metadata": {},
   "outputs": [],
   "source": [
    "idx = np.argmin(loss)\n",
    "print(xx.flatten()[idx],yy.flatten()[idx])"
   ]
  },
  {
   "cell_type": "markdown",
   "metadata": {},
   "source": [
    "# Optimization, gradient descent with Keras"
   ]
  },
  {
   "cell_type": "code",
   "execution_count": null,
   "metadata": {
    "collapsed": true
   },
   "outputs": [],
   "source": [
    "import keras\n",
    "from keras.models import Sequential\n",
    "from keras.layers import Dense, Activation\n",
    "from keras.models import Model\n",
    "from keras import optimizers\n",
    "from keras import regularizers"
   ]
  },
  {
   "cell_type": "code",
   "execution_count": null,
   "metadata": {
    "collapsed": true
   },
   "outputs": [],
   "source": [
    "model = Sequential()\n",
    "model.add(Dense(1,input_dim=1,kernel_regularizer=regularizers.l2(.1)))\n",
    "model.add(Activation('sigmoid'))"
   ]
  },
  {
   "cell_type": "code",
   "execution_count": null,
   "metadata": {
    "collapsed": true
   },
   "outputs": [],
   "source": [
    "sgd = optimizers.SGD(lr=0.05)\n",
    "model.compile(optimizer=sgd, loss='binary_crossentropy', metrics=['accuracy'])"
   ]
  },
  {
   "cell_type": "code",
   "execution_count": null,
   "metadata": {
    "collapsed": true
   },
   "outputs": [],
   "source": [
    "weight = 4\n",
    "bias = 4\n",
    "layer =  model.layers[0]\n",
    "layer.set_weights( [ np.array([[weight]]) , np.array([bias]) ] ) "
   ]
  },
  {
   "cell_type": "code",
   "execution_count": null,
   "metadata": {
    "collapsed": true
   },
   "outputs": [],
   "source": [
    "def initialise_keras_model(initial_weight = 4,initial_bias = 4):\n",
    "    model = Sequential()\n",
    "    model.add(Dense(1,input_dim=1,kernel_regularizer=regularizers.l2(.1)))\n",
    "    model.add(Activation('sigmoid'))\n",
    "    sgd = optimizers.SGD(lr=0.05)\n",
    "    model.compile(optimizer=sgd, loss='binary_crossentropy', metrics=['accuracy'])\n",
    "    initial_weight = 4\n",
    "    initial_bias = 4\n",
    "    layer =  model.layers[0]\n",
    "    layer.set_weights( [ np.array([[initial_weight]]) , np.array([initial_bias]) ] ) \n",
    "    return model"
   ]
  },
  {
   "cell_type": "code",
   "execution_count": null,
   "metadata": {
    "collapsed": true
   },
   "outputs": [],
   "source": [
    "#history = model.fit(x_train,y_train,epochs=10,verbose=0)\n",
    "# model.get_weights()\n",
    "# loss = model.evaluate(x_train,y_train,verbose=0)[0]\n",
    "# model.test_on_batch(x_train,y_train)\n",
    "# model.train_on_batch(x_train,y_train)\n",
    "# model.get_weights()"
   ]
  },
  {
   "cell_type": "code",
   "execution_count": null,
   "metadata": {
    "collapsed": true
   },
   "outputs": [],
   "source": [
    "def get_loss(model,weight,bias,x,y,C=1.):\n",
    "    \"\"\"Compute the loss function.\"\"\"\n",
    "#     model = sklearn.linear_model.LogisticRegression()\n",
    "#     model.coef_ = np.array([[weigth]])\n",
    "    layer =  model.layers[0]\n",
    "    layer.set_weights( [ np.array([[weight]]) , np.array([bias]) ] ) \n",
    "    loss = model.evaluate(x,y,verbose=0)[0]\n",
    "    #print(pred)\n",
    "    #log_loss = x.shape[0]*sklearn.metrics.log_loss(y,pred)\n",
    "    #print(log_loss)\n",
    "    #loss = 0.5*(weigth**2 + bias**2) + C*log_loss\n",
    "    return loss\n",
    "\n",
    "def get_loss1(weigth,bias):\n",
    "    return get_loss(model,weigth,bias,x_train,y_train,1.)\n",
    "\n",
    "vloss = np.vectorize(get_loss1)\n",
    "\n",
    "def get_meshgrid(xstart,xend,xstep,ystart,yend,ystep):\n",
    "    xx,yy = np.mgrid[xstart:xend:xstep,ystart:yend:ystep]\n",
    "    return xx,yy"
   ]
  },
  {
   "cell_type": "code",
   "execution_count": null,
   "metadata": {
    "collapsed": true
   },
   "outputs": [],
   "source": [
    "xx,yy = get_meshgrid(-10,10,.1,-10,10,.1)\n",
    "loss_grid = vloss(xx,yy)"
   ]
  },
  {
   "cell_type": "code",
   "execution_count": null,
   "metadata": {
    "collapsed": true
   },
   "outputs": [],
   "source": [
    "import pickle\n",
    "with open('../data/loss_grid', 'wb') as f:\n",
    "    # Pickle the 'data' dictionary using the highest protocol available.\n",
    "    pickle.dump(loss_grid, f)"
   ]
  },
  {
   "cell_type": "code",
   "execution_count": null,
   "metadata": {
    "collapsed": true
   },
   "outputs": [],
   "source": [
    "# with open('../data/loss_grid', 'rb') as f:\n",
    "#     # Pickle the 'data' dictionary using the highest protocol available.\n",
    "#     loss_grid =pickle.load(f)"
   ]
  },
  {
   "cell_type": "code",
   "execution_count": null,
   "metadata": {},
   "outputs": [],
   "source": [
    "model = initialise_keras_model()\n",
    "steps = 10\n",
    "import matplotlib.colors as colors\n",
    "fig = plt.figure(figsize=(20,10))\n",
    "#plt.pcolor(xx,yy,loss,cmap='RdBu_r')\n",
    "plt.pcolor(xx,yy,loss_grid,norm=colors.LogNorm(),cmap='RdBu_r')\n",
    "plt.colorbar()\n",
    "CS = plt.contour(xx, yy, loss_grid,20)\n",
    "plt.title('Loss function')\n",
    "plt.xlabel('weight')\n",
    "plt.ylabel('bias')\n",
    "for i in range(steps):\n",
    "    old_weight, old_bias = model.get_weights()[0][0][0], model.get_weights()[1][0]\n",
    "    model.fit(x_train,y_train,verbose=0,epochs = 8)\n",
    "    weight, bias = model.get_weights()[0][0][0], model.get_weights()[1][0]\n",
    "    plt.plot([old_weight,weight],[old_bias,bias],'kX--',markersize=8)\n"
   ]
  },
  {
   "cell_type": "code",
   "execution_count": null,
   "metadata": {},
   "outputs": [],
   "source": [
    "import matplotlib.pyplot as plt\n",
    "from mpl_toolkits.mplot3d import Axes3D\n",
    "from matplotlib import cm\n",
    "\n",
    "fig = plt.figure()\n",
    "ax = fig.add_subplot(111, projection='3d')\n",
    "ax.plot_surface(xx,yy,loss_grid,cmap=cm.coolwarm)\n",
    "\n",
    "model = initialise_keras_model()\n",
    "steps = 10\n",
    "for i in range(steps):\n",
    "    old_weight, old_bias = model.get_weights()[0][0][0], model.get_weights()[1][0]\n",
    "    old_loss =model.evaluate(x_train,y_train,verbose=0)[0]\n",
    "    model.fit(x_train,y_train,verbose=0,epochs = 5)\n",
    "    weight, bias = model.get_weights()[0][0][0], model.get_weights()[1][0]\n",
    "    new_loss = model.evaluate(x_train,y_train,verbose=0)[0]\n",
    "    plt.plot([old_weight,weight],[old_bias,bias],[old_loss,new_loss],'k--',markersize=8)"
   ]
  },
  {
   "cell_type": "markdown",
   "metadata": {},
   "source": [
    "# Logistic regression with Keras"
   ]
  },
  {
   "cell_type": "code",
   "execution_count": null,
   "metadata": {
    "collapsed": true
   },
   "outputs": [],
   "source": []
  },
  {
   "cell_type": "code",
   "execution_count": null,
   "metadata": {
    "collapsed": true
   },
   "outputs": [],
   "source": [
    "model = Sequential()\n",
    "model.add(Dense(1,input_dim=1,kernel_regularizer=regularizers.l2(0.01)))\n",
    "model.add(Activation('sigmoid'))"
   ]
  },
  {
   "cell_type": "code",
   "execution_count": null,
   "metadata": {
    "collapsed": true
   },
   "outputs": [],
   "source": []
  },
  {
   "cell_type": "code",
   "execution_count": null,
   "metadata": {
    "collapsed": true
   },
   "outputs": [],
   "source": [
    "# model.compile(optimizer='rmsprop', loss='binary_crossentropy', metrics=['accuracy'])\n",
    "model.compile(optimizer=sgd, loss='binary_crossentropy', metrics=['accuracy'])"
   ]
  },
  {
   "cell_type": "code",
   "execution_count": null,
   "metadata": {},
   "outputs": [],
   "source": [
    "model.fit(x_train,y_train,epochs=10, batch_size=64,verbose=0)"
   ]
  },
  {
   "cell_type": "markdown",
   "metadata": {},
   "source": [
    "# Neural Networks: when linear methods are not sufficient"
   ]
  },
  {
   "cell_type": "code",
   "execution_count": null,
   "metadata": {},
   "outputs": [],
   "source": [
    "plot_histogram('versicolor','petal_width')"
   ]
  },
  {
   "cell_type": "code",
   "execution_count": null,
   "metadata": {
    "collapsed": true
   },
   "outputs": [],
   "source": [
    "# for name,group in grouped:\n",
    "#     print(name)\n",
    "#     print(group)"
   ]
  },
  {
   "cell_type": "code",
   "execution_count": null,
   "metadata": {
    "collapsed": true
   },
   "outputs": [],
   "source": [
    "# plt.figure(figsize=(10,7))\n",
    "# sns.barplot(x='petal_length',hue='species_setosa',data=iris_dummies)"
   ]
  },
  {
   "cell_type": "code",
   "execution_count": null,
   "metadata": {
    "collapsed": true
   },
   "outputs": [],
   "source": []
  },
  {
   "cell_type": "code",
   "execution_count": null,
   "metadata": {
    "collapsed": true
   },
   "outputs": [],
   "source": [
    "colors = ['red', 'blue']\n",
    "plt.hist(x, n_bins, normed=1, histtype='bar', color=colors, label=colors)"
   ]
  },
  {
   "cell_type": "code",
   "execution_count": null,
   "metadata": {
    "collapsed": true
   },
   "outputs": [],
   "source": []
  },
  {
   "cell_type": "code",
   "execution_count": null,
   "metadata": {
    "collapsed": true
   },
   "outputs": [],
   "source": []
  },
  {
   "cell_type": "markdown",
   "metadata": {},
   "source": [
    "# Playground"
   ]
  },
  {
   "cell_type": "code",
   "execution_count": null,
   "metadata": {},
   "outputs": [],
   "source": [
    "import numpy as np\n",
    "from keras.models import Sequential\n",
    "from keras.layers import Dense, InputLayer\n",
    "\n",
    "model = Sequential([\n",
    "    InputLayer([10]),\n",
    "    Dense(1)\n",
    "])\n",
    "model.trainable = True\n",
    "model.compile(\"adam\", \"mse\")\n",
    "\n",
    "x = np.random.uniform(-1, 1, [8, 10])\n",
    "y = np.random.uniform(-1, 1, [8])\n",
    "\n",
    "print(model.train_on_batch(x, y))\n",
    "print(model.test_on_batch(x, y))\n",
    "print(model.test_on_batch(x, y))\n",
    "print(model.train_on_batch(x, y))\n",
    "print(model.train_on_batch(x, y))\n",
    "\n",
    "print(model.test_on_batch(x, y))\n",
    "print(model.train_on_batch(x, y))\n",
    "print(model.test_on_batch(x, y))"
   ]
  },
  {
   "cell_type": "code",
   "execution_count": null,
   "metadata": {
    "collapsed": true
   },
   "outputs": [],
   "source": []
  }
 ],
 "metadata": {
  "kernelspec": {
   "display_name": "Python 3",
   "language": "python",
   "name": "python3"
  },
  "language_info": {
   "codemirror_mode": {
    "name": "ipython",
    "version": 3
   },
   "file_extension": ".py",
   "mimetype": "text/x-python",
   "name": "python",
   "nbconvert_exporter": "python",
   "pygments_lexer": "ipython3",
   "version": "3.6.4"
  }
 },
 "nbformat": 4,
 "nbformat_minor": 2
}
